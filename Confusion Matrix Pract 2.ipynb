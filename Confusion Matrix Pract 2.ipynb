{
 "cells": [
  {
   "cell_type": "code",
   "execution_count": 6,
   "id": "bd610a00",
   "metadata": {},
   "outputs": [
    {
     "name": "stdout",
     "output_type": "stream",
     "text": [
      "Confusion Matrix\n",
      "[[2 5]\n",
      " [3 2]]\n"
     ]
    }
   ],
   "source": [
    "from sklearn.metrics import confusion_matrix\n",
    "from sklearn.metrics import classification_report\n",
    "a=[0,0,0,1,1,1,0,0,1,0,0,1]\n",
    "b=[1,0,1,1,0,0,0,1,1,1,1,0]\n",
    "matrix = confusion_matrix(a,b)\n",
    "cl_report = classification_report(a,b)\n",
    "print(\"Confusion Matrix\")\n",
    "print (matrix)"
   ]
  },
  {
   "cell_type": "code",
   "execution_count": 7,
   "id": "b29c7f86",
   "metadata": {},
   "outputs": [
    {
     "name": "stdout",
     "output_type": "stream",
     "text": [
      "              precision    recall  f1-score   support\n",
      "\n",
      "           0       0.40      0.29      0.33         7\n",
      "           1       0.29      0.40      0.33         5\n",
      "\n",
      "    accuracy                           0.33        12\n",
      "   macro avg       0.34      0.34      0.33        12\n",
      "weighted avg       0.35      0.33      0.33        12\n",
      "\n"
     ]
    }
   ],
   "source": [
    "print(cl_report)"
   ]
  },
  {
   "cell_type": "code",
   "execution_count": null,
   "id": "be95c772",
   "metadata": {},
   "outputs": [],
   "source": []
  }
 ],
 "metadata": {
  "kernelspec": {
   "display_name": "Python 3 (ipykernel)",
   "language": "python",
   "name": "python3"
  },
  "language_info": {
   "codemirror_mode": {
    "name": "ipython",
    "version": 3
   },
   "file_extension": ".py",
   "mimetype": "text/x-python",
   "name": "python",
   "nbconvert_exporter": "python",
   "pygments_lexer": "ipython3",
   "version": "3.9.7"
  }
 },
 "nbformat": 4,
 "nbformat_minor": 5
}
